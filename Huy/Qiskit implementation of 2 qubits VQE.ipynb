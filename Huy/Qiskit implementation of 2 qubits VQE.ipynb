{
 "cells": [
  {
   "cell_type": "code",
   "execution_count": 40,
   "metadata": {},
   "outputs": [],
   "source": [
    "import numpy as np\n",
    "import qiskit\n",
    "%matplotlib inline"
   ]
  },
  {
   "cell_type": "code",
   "execution_count": 41,
   "metadata": {},
   "outputs": [],
   "source": [
    "from qiskit import BasicAer\n",
    "from qiskit.circuit.library import TwoLocal\n",
    "from qiskit.quantum_info import Pauli, pauli_group\n",
    "from qiskit.aqua import aqua_globals, QuantumInstance\n",
    "from qiskit.aqua.operators.primitive_ops import PauliOp\n",
    "from qiskit.aqua.operators.list_ops import SummedOp\n",
    "from qiskit.aqua.algorithms import NumPyMinimumEigensolver, VQE\n",
    "from qiskit.aqua.components.optimizers import COBYLA"
   ]
  },
  {
   "cell_type": "markdown",
   "metadata": {},
   "source": [
    "Generate a random 4x4 Hamiltonian"
   ]
  },
  {
   "cell_type": "code",
   "execution_count": 42,
   "metadata": {},
   "outputs": [],
   "source": [
    "scale = 10\n",
    "H_weight = scale*np.random.random(16)"
   ]
  },
  {
   "cell_type": "code",
   "execution_count": 43,
   "metadata": {},
   "outputs": [],
   "source": [
    "paulis = pauli_group(2)\n",
    "pauli_operators = []\n",
    "for i in range(16):\n",
    "    pauli_operators.append(PauliOp(paulis[i], H_weight[i]))\n",
    "H_operator = SummedOp(pauli_operators)"
   ]
  },
  {
   "cell_type": "code",
   "execution_count": 44,
   "metadata": {},
   "outputs": [
    {
     "data": {
      "text/plain": [
       "array([[12.18537168 +0.j        ,  0.75728355-13.10833852j,\n",
       "        10.05994718-15.27009852j, -2.37613763-13.33994015j],\n",
       "       [ 0.75728355+13.10833852j,  6.26269075 +0.j        ,\n",
       "        11.78751369 -4.90462467j,  9.93854364 -0.76911875j],\n",
       "       [10.05994718+15.27009852j, 11.78751369 +4.90462467j,\n",
       "         4.38263651 +0.j        ,  0.02705532 -3.7878785j ],\n",
       "       [-2.37613763+13.33994015j,  9.93854364 +0.76911875j,\n",
       "         0.02705532 +3.7878785j ,  9.87721702 +0.j        ]])"
      ]
     },
     "execution_count": 44,
     "metadata": {},
     "output_type": "execute_result"
    }
   ],
   "source": [
    "H_operator.to_matrix()"
   ]
  },
  {
   "cell_type": "markdown",
   "metadata": {},
   "source": [
    "Using classical algorithm to calculate the minimum energy"
   ]
  },
  {
   "cell_type": "code",
   "execution_count": 45,
   "metadata": {},
   "outputs": [
    {
     "data": {
      "text/plain": [
       "-16.25508011615957"
      ]
     },
     "execution_count": 45,
     "metadata": {},
     "output_type": "execute_result"
    }
   ],
   "source": [
    "classical_algo = NumPyMinimumEigensolver(H_operator.to_pauli_op())\n",
    "classical_result = classical_algo.run()\n",
    "np.real(classical_result.eigenvalue)"
   ]
  },
  {
   "cell_type": "markdown",
   "metadata": {},
   "source": [
    "Create parametrized circuit to generate the trial state"
   ]
  },
  {
   "cell_type": "code",
   "execution_count": 46,
   "metadata": {},
   "outputs": [],
   "source": [
    "circuit = TwoLocal(num_qubits=2, rotation_blocks= ['rz','ry','rz'],\n",
    "                   entanglement_blocks='cx', entanglement=[[(0,1)],[(1,0)],[(0,1)]], reps = 3)"
   ]
  },
  {
   "cell_type": "code",
   "execution_count": 47,
   "metadata": {},
   "outputs": [
    {
     "name": "stdout",
     "output_type": "stream",
     "text": [
      "     ┌──────────┐┌──────────┐┌──────────┐     ┌──────────┐┌──────────┐»\n",
      "q_0: ┤ RZ(θ[0]) ├┤ RY(θ[2]) ├┤ RZ(θ[4]) ├──■──┤ RZ(θ[6]) ├┤ RY(θ[8]) ├»\n",
      "     ├──────────┤├──────────┤├──────────┤┌─┴─┐├──────────┤├──────────┤»\n",
      "q_1: ┤ RZ(θ[1]) ├┤ RY(θ[3]) ├┤ RZ(θ[5]) ├┤ X ├┤ RZ(θ[7]) ├┤ RY(θ[9]) ├»\n",
      "     └──────────┘└──────────┘└──────────┘└───┘└──────────┘└──────────┘»\n",
      "«     ┌───────────┐┌───┐┌───────────┐┌───────────┐┌───────────┐     »\n",
      "«q_0: ┤ RZ(θ[10]) ├┤ X ├┤ RZ(θ[12]) ├┤ RY(θ[14]) ├┤ RZ(θ[16]) ├──■──»\n",
      "«     ├───────────┤└─┬─┘├───────────┤├───────────┤├───────────┤┌─┴─┐»\n",
      "«q_1: ┤ RZ(θ[11]) ├──■──┤ RZ(θ[13]) ├┤ RY(θ[15]) ├┤ RZ(θ[17]) ├┤ X ├»\n",
      "«     └───────────┘     └───────────┘└───────────┘└───────────┘└───┘»\n",
      "«     ┌───────────┐┌───────────┐┌───────────┐\n",
      "«q_0: ┤ RZ(θ[18]) ├┤ RY(θ[20]) ├┤ RZ(θ[22]) ├\n",
      "«     ├───────────┤├───────────┤├───────────┤\n",
      "«q_1: ┤ RZ(θ[19]) ├┤ RY(θ[21]) ├┤ RZ(θ[23]) ├\n",
      "«     └───────────┘└───────────┘└───────────┘\n"
     ]
    }
   ],
   "source": [
    "print(circuit)"
   ]
  },
  {
   "cell_type": "markdown",
   "metadata": {},
   "source": [
    "Running the VQE algorithm"
   ]
  },
  {
   "cell_type": "code",
   "execution_count": 48,
   "metadata": {},
   "outputs": [],
   "source": [
    "optimizer = COBYLA(maxiter=10000)\n",
    "algo = VQE(H_operator, circuit, optimizer)\n",
    "result = algo.run(QuantumInstance(BasicAer.get_backend('statevector_simulator'),\n",
    "                                seed_simulator=aqua_globals.random_seed,\n",
    "                                seed_transpiler=aqua_globals.random_seed))"
   ]
  },
  {
   "cell_type": "code",
   "execution_count": 49,
   "metadata": {},
   "outputs": [
    {
     "name": "stdout",
     "output_type": "stream",
     "text": [
      "The algorithm run time: 36.87755537033081\n",
      "The minimum energy found by VQE: -16.25508005441619\n",
      "The minimum energy found by classical algorithm: -16.25508011615957\n"
     ]
    }
   ],
   "source": [
    "print(\"The algorithm run time: {}\".format(result.optimizer_time))\n",
    "print(\"The minimum energy found by VQE: {}\".format(result.optimal_value))\n",
    "print(\"The minimum energy found by classical algorithm: {}\".format(np.real(classical_result.eigenvalue)))"
   ]
  }
 ],
 "metadata": {
  "kernelspec": {
   "display_name": "Python 3",
   "language": "python",
   "name": "python3"
  },
  "language_info": {
   "codemirror_mode": {
    "name": "ipython",
    "version": 3
   },
   "file_extension": ".py",
   "mimetype": "text/x-python",
   "name": "python",
   "nbconvert_exporter": "python",
   "pygments_lexer": "ipython3",
   "version": "3.8.5"
  }
 },
 "nbformat": 4,
 "nbformat_minor": 4
}
